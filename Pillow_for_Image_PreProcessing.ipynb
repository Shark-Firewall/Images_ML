{
 "cells": [
  {
   "cell_type": "code",
   "execution_count": 1,
   "id": "efc8fcc9",
   "metadata": {},
   "outputs": [],
   "source": [
    "import tensorflow as tf\n",
    "from PIL import Image"
   ]
  },
  {
   "cell_type": "code",
   "execution_count": 2,
   "id": "74fbbb4a",
   "metadata": {},
   "outputs": [
    {
     "name": "stdout",
     "output_type": "stream",
     "text": [
      "2.10.0\n"
     ]
    }
   ],
   "source": [
    "print(tf.__version__)"
   ]
  },
  {
   "cell_type": "markdown",
   "id": "6e271504",
   "metadata": {},
   "source": [
    "### Opening the image in notebook"
   ]
  },
  {
   "cell_type": "code",
   "execution_count": 3,
   "id": "a2265892",
   "metadata": {},
   "outputs": [],
   "source": [
    "img = Image.open(\"Ex_Images/Wall.jpg\")"
   ]
  },
  {
   "cell_type": "code",
   "execution_count": 4,
   "id": "e4252f47",
   "metadata": {},
   "outputs": [],
   "source": [
    "img.show()"
   ]
  },
  {
   "cell_type": "markdown",
   "id": "52691e37",
   "metadata": {},
   "source": [
    "### PIL images is not numpy array"
   ]
  },
  {
   "cell_type": "code",
   "execution_count": 5,
   "id": "33de2e73",
   "metadata": {},
   "outputs": [
    {
     "name": "stdout",
     "output_type": "stream",
     "text": [
      "<class 'PIL.JpegImagePlugin.JpegImageFile'>\n"
     ]
    }
   ],
   "source": [
    "print(type(img))"
   ]
  },
  {
   "cell_type": "markdown",
   "id": "c9208254",
   "metadata": {},
   "source": [
    "### Checking image format"
   ]
  },
  {
   "cell_type": "code",
   "execution_count": 6,
   "id": "ac4f2df1",
   "metadata": {},
   "outputs": [
    {
     "name": "stdout",
     "output_type": "stream",
     "text": [
      "JPEG\n"
     ]
    }
   ],
   "source": [
    "print(img.format)"
   ]
  },
  {
   "cell_type": "markdown",
   "id": "b6ded0cd",
   "metadata": {},
   "source": [
    "### Checking image size"
   ]
  },
  {
   "cell_type": "code",
   "execution_count": 7,
   "id": "e2cc9849",
   "metadata": {},
   "outputs": [
    {
     "name": "stdout",
     "output_type": "stream",
     "text": [
      "(3978, 2238)\n"
     ]
    }
   ],
   "source": [
    "print(img.size)"
   ]
  },
  {
   "cell_type": "markdown",
   "id": "0b998479",
   "metadata": {},
   "source": [
    "### Checking image mode"
   ]
  },
  {
   "cell_type": "code",
   "execution_count": 8,
   "id": "cb97c1f1",
   "metadata": {},
   "outputs": [
    {
     "name": "stdout",
     "output_type": "stream",
     "text": [
      "RGB\n"
     ]
    }
   ],
   "source": [
    "print(img.mode)"
   ]
  },
  {
   "cell_type": "markdown",
   "id": "87de4e25",
   "metadata": {},
   "source": [
    "### Resize the Image"
   ]
  },
  {
   "cell_type": "code",
   "execution_count": 9,
   "id": "8a152f28",
   "metadata": {},
   "outputs": [],
   "source": [
    "img=img.resize((250,250))"
   ]
  },
  {
   "cell_type": "code",
   "execution_count": 10,
   "id": "24a7c473",
   "metadata": {},
   "outputs": [],
   "source": [
    "img.save(\"Ex_Images/Resize_img.jpg\")"
   ]
  },
  {
   "cell_type": "code",
   "execution_count": 11,
   "id": "59215023",
   "metadata": {},
   "outputs": [],
   "source": [
    "img=Image.open(\"Ex_Images/Resize_img.jpg\")"
   ]
  },
  {
   "cell_type": "code",
   "execution_count": 12,
   "id": "5d7fc361",
   "metadata": {},
   "outputs": [],
   "source": [
    "img.show()"
   ]
  },
  {
   "cell_type": "markdown",
   "id": "559b79e1",
   "metadata": {},
   "source": [
    "### Resizeing the Image with same aspect ratio"
   ]
  },
  {
   "cell_type": "code",
   "execution_count": 24,
   "id": "4ae6e502",
   "metadata": {},
   "outputs": [],
   "source": [
    "from PIL import Image"
   ]
  },
  {
   "cell_type": "code",
   "execution_count": 32,
   "id": "9672a1ac",
   "metadata": {},
   "outputs": [],
   "source": [
    "img = Image.open(\"Ex_Images/Wall.jpg\")"
   ]
  },
  {
   "cell_type": "code",
   "execution_count": 33,
   "id": "143c7dde",
   "metadata": {},
   "outputs": [],
   "source": [
    "img.thumbnail((250,300))"
   ]
  },
  {
   "cell_type": "code",
   "execution_count": 34,
   "id": "82015f2b",
   "metadata": {},
   "outputs": [],
   "source": [
    "img.save(\"Ex_Images/same_aspect.jpg\")"
   ]
  },
  {
   "cell_type": "code",
   "execution_count": 35,
   "id": "890cef24",
   "metadata": {},
   "outputs": [],
   "source": [
    "img.show()"
   ]
  },
  {
   "cell_type": "markdown",
   "id": "c9c32402",
   "metadata": {},
   "source": [
    "### Croping Images"
   ]
  },
  {
   "cell_type": "code",
   "execution_count": 1,
   "id": "8ff311ca",
   "metadata": {},
   "outputs": [],
   "source": [
    "from PIL import Image"
   ]
  },
  {
   "cell_type": "code",
   "execution_count": 2,
   "id": "445281a6",
   "metadata": {},
   "outputs": [],
   "source": [
    "img = Image.open(\"Ex_Images/Wall.jpg\")"
   ]
  },
  {
   "cell_type": "code",
   "execution_count": 3,
   "id": "5c22ac3c",
   "metadata": {},
   "outputs": [],
   "source": [
    "cropped_img=img.crop((0,0,300,300))"
   ]
  },
  {
   "cell_type": "code",
   "execution_count": 4,
   "id": "2496a2dd",
   "metadata": {},
   "outputs": [],
   "source": [
    "cropped_img.save(\"Ex_Images/cropped_img.jpg\")"
   ]
  },
  {
   "cell_type": "markdown",
   "id": "61cdcb80",
   "metadata": {},
   "source": [
    "### Copying Images"
   ]
  },
  {
   "cell_type": "code",
   "execution_count": 5,
   "id": "07ce478e",
   "metadata": {},
   "outputs": [],
   "source": [
    "from PIL import Image\n",
    "img=Image.open(\"Ex_Images/Wall.jpg\")"
   ]
  },
  {
   "cell_type": "code",
   "execution_count": 6,
   "id": "e54b7418",
   "metadata": {},
   "outputs": [],
   "source": [
    "copy_img=img.copy()"
   ]
  },
  {
   "cell_type": "code",
   "execution_count": 7,
   "id": "5c461b52",
   "metadata": {},
   "outputs": [],
   "source": [
    "copy_img.save(\"Ex_Images/copied_img.jpg\")"
   ]
  },
  {
   "cell_type": "markdown",
   "id": "f91ceefd",
   "metadata": {},
   "source": [
    "### Pasting Images"
   ]
  },
  {
   "cell_type": "code",
   "execution_count": 8,
   "id": "604efcac",
   "metadata": {},
   "outputs": [
    {
     "name": "stdout",
     "output_type": "stream",
     "text": [
      "(3978, 2238)\n"
     ]
    }
   ],
   "source": [
    "from PIL import Image\n",
    "img1=Image.open(\"Ex_Images/Wall.jpg\")\n",
    "print(img1.size)"
   ]
  },
  {
   "cell_type": "code",
   "execution_count": 9,
   "id": "805916e1",
   "metadata": {},
   "outputs": [
    {
     "name": "stdout",
     "output_type": "stream",
     "text": [
      "(3939, 5908)\n"
     ]
    }
   ],
   "source": [
    "img2=Image.open(\"Ex_Images/Cat.jpg\")\n",
    "print(img2.size)"
   ]
  },
  {
   "cell_type": "code",
   "execution_count": 10,
   "id": "a053d011",
   "metadata": {},
   "outputs": [],
   "source": [
    "img1.paste(img2,(1000,1000))\n",
    "img1.save(\"Ex_Images/Paste_img.jpg\")"
   ]
  },
  {
   "cell_type": "code",
   "execution_count": 11,
   "id": "16f6278e",
   "metadata": {},
   "outputs": [],
   "source": [
    "img1.show()"
   ]
  },
  {
   "cell_type": "markdown",
   "id": "49aa1835",
   "metadata": {},
   "source": [
    "### Image Rotation"
   ]
  },
  {
   "cell_type": "code",
   "execution_count": 12,
   "id": "509921e4",
   "metadata": {},
   "outputs": [],
   "source": [
    "from PIL import Image\n",
    "img=Image.open(\"Ex_Images/Wall.jpg\")"
   ]
  },
  {
   "cell_type": "code",
   "execution_count": 17,
   "id": "5de57206",
   "metadata": {},
   "outputs": [],
   "source": [
    "img_rot=img.rotate(45,expand=True)"
   ]
  },
  {
   "cell_type": "code",
   "execution_count": 18,
   "id": "19b00cd0",
   "metadata": {},
   "outputs": [],
   "source": [
    "img_rot.show()"
   ]
  },
  {
   "cell_type": "markdown",
   "id": "d61d4ac4",
   "metadata": {},
   "source": [
    "### Image Flipping and Transpose"
   ]
  },
  {
   "cell_type": "code",
   "execution_count": 23,
   "id": "4ecc91b2",
   "metadata": {},
   "outputs": [],
   "source": [
    "from PIL import Image\n",
    "img=Image.open(\"Ex_Images/Wall.jpg\")"
   ]
  },
  {
   "cell_type": "code",
   "execution_count": 27,
   "id": "f1a531f4",
   "metadata": {},
   "outputs": [],
   "source": [
    "out = img.transpose(Image.FLIP_LEFT_RIGHT)\n",
    "out.show()"
   ]
  },
  {
   "cell_type": "code",
   "execution_count": 28,
   "id": "93173ccf",
   "metadata": {},
   "outputs": [],
   "source": [
    "out=img.transpose(Image.FLIP_TOP_BOTTOM)\n",
    "out.show()"
   ]
  },
  {
   "cell_type": "markdown",
   "id": "94ba1e1a",
   "metadata": {},
   "source": [
    "### Reading from Binary Data"
   ]
  },
  {
   "cell_type": "code",
   "execution_count": 30,
   "id": "85e2e4d8",
   "metadata": {},
   "outputs": [
    {
     "ename": "UnidentifiedImageError",
     "evalue": "cannot identify image file <_io.BytesIO object at 0x0000023D8C290E00>",
     "output_type": "error",
     "traceback": [
      "\u001b[1;31m------------------------------------------------------------\u001b[0m",
      "\u001b[1;31mUnidentifiedImageError\u001b[0m     Traceback (most recent call last)",
      "Input \u001b[1;32mIn [30]\u001b[0m, in \u001b[0;36m<cell line: 4>\u001b[1;34m()\u001b[0m\n\u001b[0;32m      2\u001b[0m \u001b[38;5;28;01mimport\u001b[39;00m \u001b[38;5;21;01mio\u001b[39;00m\n\u001b[0;32m      3\u001b[0m buffer\u001b[38;5;241m=\u001b[39m\u001b[38;5;28mbytes\u001b[39m(\u001b[38;5;241m117877\u001b[39m)\n\u001b[1;32m----> 4\u001b[0m im \u001b[38;5;241m=\u001b[39m \u001b[43mImage\u001b[49m\u001b[38;5;241;43m.\u001b[39;49m\u001b[43mopen\u001b[49m\u001b[43m(\u001b[49m\u001b[43mio\u001b[49m\u001b[38;5;241;43m.\u001b[39;49m\u001b[43mBytesIO\u001b[49m\u001b[43m(\u001b[49m\u001b[43mbuffer\u001b[49m\u001b[43m)\u001b[49m\u001b[43m)\u001b[49m\n",
      "File \u001b[1;32mC:\\ProgramData\\Anaconda3\\lib\\site-packages\\PIL\\Image.py:3008\u001b[0m, in \u001b[0;36mopen\u001b[1;34m(fp, mode, formats)\u001b[0m\n\u001b[0;32m   3006\u001b[0m \u001b[38;5;28;01mfor\u001b[39;00m message \u001b[38;5;129;01min\u001b[39;00m accept_warnings:\n\u001b[0;32m   3007\u001b[0m     warnings\u001b[38;5;241m.\u001b[39mwarn(message)\n\u001b[1;32m-> 3008\u001b[0m \u001b[38;5;28;01mraise\u001b[39;00m UnidentifiedImageError(\n\u001b[0;32m   3009\u001b[0m     \u001b[38;5;124m\"\u001b[39m\u001b[38;5;124mcannot identify image file \u001b[39m\u001b[38;5;132;01m%r\u001b[39;00m\u001b[38;5;124m\"\u001b[39m \u001b[38;5;241m%\u001b[39m (filename \u001b[38;5;28;01mif\u001b[39;00m filename \u001b[38;5;28;01melse\u001b[39;00m fp)\n\u001b[0;32m   3010\u001b[0m )\n",
      "\u001b[1;31mUnidentifiedImageError\u001b[0m: cannot identify image file <_io.BytesIO object at 0x0000023D8C290E00>"
     ]
    }
   ],
   "source": [
    "from PIL import Image\n",
    "import io\n",
    "im = Image.open(io.BytesIO(buffer))"
   ]
  },
  {
   "cell_type": "markdown",
   "id": "89e972da",
   "metadata": {},
   "source": [
    "### Reading from url"
   ]
  }
 ],
 "metadata": {
  "kernelspec": {
   "display_name": "Python 3 (ipykernel)",
   "language": "python",
   "name": "python3"
  },
  "language_info": {
   "codemirror_mode": {
    "name": "ipython",
    "version": 3
   },
   "file_extension": ".py",
   "mimetype": "text/x-python",
   "name": "python",
   "nbconvert_exporter": "python",
   "pygments_lexer": "ipython3",
   "version": "3.9.12"
  }
 },
 "nbformat": 4,
 "nbformat_minor": 5
}
